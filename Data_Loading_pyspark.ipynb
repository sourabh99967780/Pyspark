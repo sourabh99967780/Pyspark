{
 "cells": [
  {
   "cell_type": "code",
   "execution_count": 1,
   "metadata": {},
   "outputs": [
    {
     "ename": "ModuleNotFoundError",
     "evalue": "No module named 'pyspark'",
     "output_type": "error",
     "traceback": [
      "\u001b[1;31m---------------------------------------------------------------------------\u001b[0m",
      "\u001b[1;31mModuleNotFoundError\u001b[0m                       Traceback (most recent call last)",
      "\u001b[1;32m<ipython-input-1-3633eeb87dbb>\u001b[0m in \u001b[0;36m<module>\u001b[1;34m\u001b[0m\n\u001b[1;32m----> 1\u001b[1;33m \u001b[1;32mfrom\u001b[0m \u001b[0mpyspark\u001b[0m \u001b[1;32mimport\u001b[0m \u001b[0mSparkContext\u001b[0m\u001b[1;33m,\u001b[0m\u001b[0mSparkConf\u001b[0m\u001b[1;33m\u001b[0m\u001b[1;33m\u001b[0m\u001b[0m\n\u001b[0m\u001b[0;32m      2\u001b[0m \u001b[0mconf\u001b[0m \u001b[1;33m=\u001b[0m \u001b[0mSparkConf\u001b[0m\u001b[1;33m(\u001b[0m\u001b[1;33m)\u001b[0m\u001b[1;33m.\u001b[0m\u001b[0msetAppName\u001b[0m\u001b[1;33m(\u001b[0m\u001b[1;34m\"HealthCentre\"\u001b[0m\u001b[1;33m)\u001b[0m\u001b[1;33m.\u001b[0m\u001b[0msetMaster\u001b[0m\u001b[1;33m(\u001b[0m\u001b[1;34m\"local[2]\"\u001b[0m\u001b[1;33m)\u001b[0m\u001b[1;33m\u001b[0m\u001b[1;33m\u001b[0m\u001b[0m\n\u001b[0;32m      3\u001b[0m \u001b[0msc\u001b[0m \u001b[1;33m=\u001b[0m \u001b[0mSparkContext\u001b[0m\u001b[1;33m.\u001b[0m\u001b[0mgetOrCreate\u001b[0m\u001b[1;33m(\u001b[0m\u001b[0mconf\u001b[0m\u001b[1;33m=\u001b[0m\u001b[0mconf\u001b[0m\u001b[1;33m)\u001b[0m\u001b[1;33m\u001b[0m\u001b[1;33m\u001b[0m\u001b[0m\n",
      "\u001b[1;31mModuleNotFoundError\u001b[0m: No module named 'pyspark'"
     ]
    }
   ],
   "source": [
    "from pyspark import SparkContext,SparkConf\n",
    "conf = SparkConf().setAppName(\"HealthCentre\").setMaster(\"local[2]\")\n",
    "sc = SparkContext.getOrCreate(conf=conf)"
   ]
  },
  {
   "cell_type": "code",
   "execution_count": 4,
   "metadata": {},
   "outputs": [
    {
     "data": {
      "text/html": [
       "\n",
       "        <div>\n",
       "            <p><b>SparkContext</b></p>\n",
       "\n",
       "            <p><a href=\"http://10.0.2.15:4040\">Spark UI</a></p>\n",
       "\n",
       "            <dl>\n",
       "              <dt>Version</dt>\n",
       "                <dd><code>v2.3.0</code></dd>\n",
       "              <dt>Master</dt>\n",
       "                <dd><code>local[*]</code></dd>\n",
       "              <dt>AppName</dt>\n",
       "                <dd><code>PySparkShell</code></dd>\n",
       "            </dl>\n",
       "        </div>\n",
       "        "
      ],
      "text/plain": [
       "<SparkContext master=local[*] appName=PySparkShell>"
      ]
     },
     "execution_count": 4,
     "metadata": {},
     "output_type": "execute_result"
    }
   ],
   "source": [
    "sc"
   ]
  },
  {
   "cell_type": "code",
   "execution_count": 6,
   "metadata": {},
   "outputs": [],
   "source": [
    "lines=sc.textFile(\"file:///home/hadoop/Downloads/employee.csv\")"
   ]
  },
  {
   "cell_type": "code",
   "execution_count": 7,
   "metadata": {},
   "outputs": [
    {
     "data": {
      "text/plain": [
       "[u'1,Ulrike,Gartside,Female,ugartside0@mac.com,Yuza,Japan,1283597,11720',\n",
       " u'2,Oliy,Blas,Female,oblas1@theguardian.com,Miyata,Japan,466473,9517',\n",
       " u'3,Morten,Judkins,Male,mjudkins2@joomla.org,Fey\\u1e95\\u0101b\\u0101d,Iran,530912,7303',\n",
       " u'4,Barnie,Holdall,Male,bholdall3@hibu.com,Franti\\u0161kovy L\\xe1zn\\u011b,Czech Republic,1181619,1280',\n",
       " u'5,Marna,Greenshields,Female,mgreenshields4@symantec.com,Toulouse,France,951614,1124']"
      ]
     },
     "execution_count": 7,
     "metadata": {},
     "output_type": "execute_result"
    }
   ],
   "source": [
    "lines.take(5)"
   ]
  },
  {
   "cell_type": "code",
   "execution_count": 8,
   "metadata": {},
   "outputs": [],
   "source": [
    "lines1=sc.textFile(\"/spark/employee.csv\")"
   ]
  },
  {
   "cell_type": "code",
   "execution_count": 9,
   "metadata": {},
   "outputs": [
    {
     "data": {
      "text/plain": [
       "[u'1,Ulrike,Gartside,Female,ugartside0@mac.com,Yuza,Japan,1283597,11720',\n",
       " u'2,Oliy,Blas,Female,oblas1@theguardian.com,Miyata,Japan,466473,9517',\n",
       " u'3,Morten,Judkins,Male,mjudkins2@joomla.org,Fey\\u1e95\\u0101b\\u0101d,Iran,530912,7303',\n",
       " u'4,Barnie,Holdall,Male,bholdall3@hibu.com,Franti\\u0161kovy L\\xe1zn\\u011b,Czech Republic,1181619,1280',\n",
       " u'5,Marna,Greenshields,Female,mgreenshields4@symantec.com,Toulouse,France,951614,1124']"
      ]
     },
     "execution_count": 9,
     "metadata": {},
     "output_type": "execute_result"
    }
   ],
   "source": [
    "lines1.take(5)"
   ]
  },
  {
   "cell_type": "code",
   "execution_count": 19,
   "metadata": {},
   "outputs": [],
   "source": [
    "spark.stop()"
   ]
  },
  {
   "cell_type": "code",
   "execution_count": 20,
   "metadata": {},
   "outputs": [],
   "source": [
    "from pyspark.sql import SparkSession"
   ]
  },
  {
   "cell_type": "code",
   "execution_count": 21,
   "metadata": {},
   "outputs": [],
   "source": [
    "spark = SparkSession.builder.appName('blah').getOrCreate()"
   ]
  },
  {
   "cell_type": "code",
   "execution_count": 22,
   "metadata": {},
   "outputs": [
    {
     "data": {
      "text/html": [
       "\n",
       "            <div>\n",
       "                <p><b>SparkSession - hive</b></p>\n",
       "                \n",
       "        <div>\n",
       "            <p><b>SparkContext</b></p>\n",
       "\n",
       "            <p><a href=\"http://10.0.2.15:4040\">Spark UI</a></p>\n",
       "\n",
       "            <dl>\n",
       "              <dt>Version</dt>\n",
       "                <dd><code>v2.3.0</code></dd>\n",
       "              <dt>Master</dt>\n",
       "                <dd><code>local[*]</code></dd>\n",
       "              <dt>AppName</dt>\n",
       "                <dd><code>blah</code></dd>\n",
       "            </dl>\n",
       "        </div>\n",
       "        \n",
       "            </div>\n",
       "        "
      ],
      "text/plain": [
       "<pyspark.sql.session.SparkSession at 0x7f942fc14b50>"
      ]
     },
     "execution_count": 22,
     "metadata": {},
     "output_type": "execute_result"
    }
   ],
   "source": [
    "spark"
   ]
  },
  {
   "cell_type": "code",
   "execution_count": 24,
   "metadata": {},
   "outputs": [],
   "source": [
    "df = spark.read.csv(\"file:///home/hadoop/Downloads/employee.csv\")"
   ]
  },
  {
   "cell_type": "code",
   "execution_count": 25,
   "metadata": {},
   "outputs": [
    {
     "data": {
      "text/plain": [
       "[Row(_c0=u'1', _c1=u'Ulrike', _c2=u'Gartside', _c3=u'Female', _c4=u'ugartside0@mac.com', _c5=u'Yuza', _c6=u'Japan', _c7=u'1283597', _c8=u'11720'),\n",
       " Row(_c0=u'2', _c1=u'Oliy', _c2=u'Blas', _c3=u'Female', _c4=u'oblas1@theguardian.com', _c5=u'Miyata', _c6=u'Japan', _c7=u'466473', _c8=u'9517'),\n",
       " Row(_c0=u'3', _c1=u'Morten', _c2=u'Judkins', _c3=u'Male', _c4=u'mjudkins2@joomla.org', _c5=u'Fey\\u1e95\\u0101b\\u0101d', _c6=u'Iran', _c7=u'530912', _c8=u'7303'),\n",
       " Row(_c0=u'4', _c1=u'Barnie', _c2=u'Holdall', _c3=u'Male', _c4=u'bholdall3@hibu.com', _c5=u'Franti\\u0161kovy L\\xe1zn\\u011b', _c6=u'Czech Republic', _c7=u'1181619', _c8=u'1280'),\n",
       " Row(_c0=u'5', _c1=u'Marna', _c2=u'Greenshields', _c3=u'Female', _c4=u'mgreenshields4@symantec.com', _c5=u'Toulouse', _c6=u'France', _c7=u'951614', _c8=u'1124')]"
      ]
     },
     "execution_count": 25,
     "metadata": {},
     "output_type": "execute_result"
    }
   ],
   "source": [
    "df.take(5)"
   ]
  },
  {
   "cell_type": "code",
   "execution_count": 26,
   "metadata": {},
   "outputs": [
    {
     "data": {
      "text/plain": [
       "DataFrame[summary: string, _c0: string, _c1: string, _c2: string, _c3: string, _c4: string, _c5: string, _c6: string, _c7: string, _c8: string]"
      ]
     },
     "execution_count": 26,
     "metadata": {},
     "output_type": "execute_result"
    }
   ],
   "source": [
    "df.describe()"
   ]
  },
  {
   "cell_type": "code",
   "execution_count": 27,
   "metadata": {},
   "outputs": [
    {
     "name": "stdout",
     "output_type": "stream",
     "text": [
      "+---+---------+------------+------+--------------------+-----------------+--------------+-------+-----+\n",
      "|_c0|      _c1|         _c2|   _c3|                 _c4|              _c5|           _c6|    _c7|  _c8|\n",
      "+---+---------+------------+------+--------------------+-----------------+--------------+-------+-----+\n",
      "|  1|   Ulrike|    Gartside|Female|  ugartside0@mac.com|             Yuza|         Japan|1283597|11720|\n",
      "|  2|     Oliy|        Blas|Female|oblas1@theguardia...|           Miyata|         Japan| 466473| 9517|\n",
      "|  3|   Morten|     Judkins|  Male|mjudkins2@joomla.org|         Feyẕābād|          Iran| 530912| 7303|\n",
      "|  4|   Barnie|     Holdall|  Male|  bholdall3@hibu.com|Františkovy Lázně|Czech Republic|1181619| 1280|\n",
      "|  5|    Marna|Greenshields|Female|mgreenshields4@sy...|         Toulouse|        France| 951614| 1124|\n",
      "|  6| Laurella|       Fligg|Female|  lfligg5@meetup.com|         Mrzezino|        Poland| 419390| 6458|\n",
      "|  7|   Dulcea|     Learoid|Female| dlearoid6@hc360.com|         São José|        Brazil| 933122|11805|\n",
      "|  8|Gallagher|        Zima|  Male|gzima7@independen...|          Licheng|         China|1018651|11762|\n",
      "|  9|    Danit|       Field|Female|   dfield8@google.nl|          Taubaté|        Brazil|1174656| 6169|\n",
      "| 10|   Tricia|       Wawer|Female|    twawer9@hibu.com|            Aktau|    Kazakhstan| 156478|11859|\n",
      "| 11|  Bronson|     Banford|  Male|bbanforda@imagesh...|        El Zapote|        Mexico| 511834| 8921|\n",
      "| 12|   Shaine|  Aleksankin|  Male|saleksankinb@reut...|      Carcassonne|        France| 400541|14942|\n",
      "| 13|     Cris|  Caudrelier|  Male|ccaudrelierc@usda...|        Shalamzār|          Iran| 688898| 3515|\n",
      "| 14|   Caresa|       Tripp|Female|     ctrippd@cmu.edu|      Kampungbaru|     Indonesia| 732926|10040|\n",
      "| 15|  Malorie|     Rogeron|Female|mrogerone@wordpre...|           Gludug|     Indonesia| 871232|10919|\n",
      "| 16|   Bondon|       Drury|  Male|bdruryf@japanpost.jp|       Sumuragung|     Indonesia| 329938| 3205|\n",
      "| 17| Valdemar|   Callister|  Male|vcallisterg@vista...|          Messina|         Italy| 606036| 9433|\n",
      "| 18|    Edwin|     Voelker|  Male|evoelkerh@economi...|     Lgota Wielka|        Poland|  85855| 2486|\n",
      "| 19|   Taylor|      Izzard|  Male|  tizzardi@webmd.com|     Tambo Grande|          Peru|1406237|11901|\n",
      "| 20|    Nikos|     Catonne|  Male|    ncatonnej@ed.gov|         Corcuera|   Philippines|1101052| 1240|\n",
      "+---+---------+------------+------+--------------------+-----------------+--------------+-------+-----+\n",
      "only showing top 20 rows\n",
      "\n"
     ]
    }
   ],
   "source": [
    "df.show()"
   ]
  }
 ],
 "metadata": {
  "kernelspec": {
   "display_name": "Python 3",
   "language": "python",
   "name": "python3"
  },
  "language_info": {
   "codemirror_mode": {
    "name": "ipython",
    "version": 3
   },
   "file_extension": ".py",
   "mimetype": "text/x-python",
   "name": "python",
   "nbconvert_exporter": "python",
   "pygments_lexer": "ipython3",
   "version": "3.7.1"
  }
 },
 "nbformat": 4,
 "nbformat_minor": 2
}
